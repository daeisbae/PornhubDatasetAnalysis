{
 "cells": [
  {
   "cell_type": "code",
   "execution_count": 83,
   "metadata": {},
   "outputs": [],
   "source": [
    "import pandas as pd"
   ]
  },
  {
   "cell_type": "code",
   "execution_count": null,
   "metadata": {},
   "outputs": [],
   "source": [
    "originalFile = 'pornhub.com-db.csv'"
   ]
  },
  {
   "cell_type": "markdown",
   "metadata": {},
   "source": [
    "Shrink large dataset"
   ]
  },
  {
   "cell_type": "code",
   "execution_count": 84,
   "metadata": {},
   "outputs": [],
   "source": [
    "# originalDataset = pd.read_csv(originalFile, chunksize=100000, iterator=True, on_bad_lines='skip')\n",
    "# for idx, chunk in enumerate(originalDataset):\n",
    "    # chunk.to_csv(f'pornhub.com-db-shrinked{idx}-0.csv', mode='a', header=False, index=False) "
   ]
  },
  {
   "cell_type": "code",
   "execution_count": null,
   "metadata": {},
   "outputs": [],
   "source": [
    "columns = ['embed','thumbnail','thumbnail2','title','tags','categories','pornstars','duration','views','likes','dislikes','thumbnail3','thumbnail4']"
   ]
  },
  {
   "cell_type": "code",
   "execution_count": 85,
   "metadata": {},
   "outputs": [],
   "source": [
    "# dataset = pd.read_csv('pornhub.com-db-shrinked1-0.csv', delimiter='|', on_bad_lines='skip', columns=columns)\n",
    "# dataset.to_csv('pornhub.com-db-shrinked1-0-fixed.csv', mode='a', header=False, index=False)\n",
    "dataset = pd.read_csv('pornhub.com-db-shrinked1-0-fixed.csv', delimiter='|', on_bad_lines='skip')"
   ]
  },
  {
   "cell_type": "code",
   "execution_count": 86,
   "metadata": {},
   "outputs": [
    {
     "data": {
      "text/plain": [
       "99485"
      ]
     },
     "execution_count": 86,
     "metadata": {},
     "output_type": "execute_result"
    }
   ],
   "source": [
    "len(dataset)"
   ]
  },
  {
   "cell_type": "markdown",
   "metadata": {},
   "source": [
    "Data cleaning & processing"
   ]
  },
  {
   "cell_type": "code",
   "execution_count": 87,
   "metadata": {},
   "outputs": [],
   "source": [
    "# from collections import Counter\n",
    "# count = Counter()\n",
    "# for i in range(len(dataset)):\n",
    "#     count[len(dataset.iloc[i].embed.split('|'))] += 1\n",
    "# count"
   ]
  },
  {
   "cell_type": "code",
   "execution_count": 88,
   "metadata": {},
   "outputs": [],
   "source": [
    "# datasetValidation = [len(dataset.iloc[i].embed.split('|')) == 13 for i in range(len(dataset))]\n",
    "# dataset = dataset[datasetValidation]"
   ]
  },
  {
   "cell_type": "code",
   "execution_count": 89,
   "metadata": {},
   "outputs": [],
   "source": [
    "# datasetFixed = pd.DataFrame([dataset.iloc[i].embed.split('|') for i in range(1, len(dataset))], columns=dataset.iloc[0].embed.split('|'))"
   ]
  },
  {
   "cell_type": "code",
   "execution_count": 90,
   "metadata": {},
   "outputs": [],
   "source": [
    "# datasetFixed.to_csv('pornhub.com-db-shrinked1-0-fixed.csv', index=False, header=True, sep='|')"
   ]
  },
  {
   "cell_type": "markdown",
   "metadata": {},
   "source": [
    "Data quality check"
   ]
  },
  {
   "cell_type": "code",
   "execution_count": 91,
   "metadata": {},
   "outputs": [],
   "source": [
    "import seaborn as sns\n",
    "from collections import Counter\n",
    "%matplotlib inline"
   ]
  },
  {
   "cell_type": "code",
   "execution_count": 92,
   "metadata": {},
   "outputs": [
    {
     "data": {
      "text/plain": [
       "(Index(['embed', 'thumbnail', 'thumbnail2', 'title', 'tags', 'categories',\n",
       "        'pornstars', 'duration', 'views', 'likes', 'dislikes', 'thumbnail3',\n",
       "        'thumbnail4'],\n",
       "       dtype='object'),\n",
       " 13)"
      ]
     },
     "execution_count": 92,
     "metadata": {},
     "output_type": "execute_result"
    }
   ],
   "source": [
    "dataset.columns, len(dataset.columns)"
   ]
  },
  {
   "cell_type": "code",
   "execution_count": 93,
   "metadata": {},
   "outputs": [
    {
     "data": {
      "text/html": [
       "<div>\n",
       "<style scoped>\n",
       "    .dataframe tbody tr th:only-of-type {\n",
       "        vertical-align: middle;\n",
       "    }\n",
       "\n",
       "    .dataframe tbody tr th {\n",
       "        vertical-align: top;\n",
       "    }\n",
       "\n",
       "    .dataframe thead th {\n",
       "        text-align: right;\n",
       "    }\n",
       "</style>\n",
       "<table border=\"1\" class=\"dataframe\">\n",
       "  <thead>\n",
       "    <tr style=\"text-align: right;\">\n",
       "      <th></th>\n",
       "      <th>embed</th>\n",
       "      <th>thumbnail</th>\n",
       "      <th>thumbnail2</th>\n",
       "      <th>title</th>\n",
       "      <th>tags</th>\n",
       "      <th>categories</th>\n",
       "      <th>pornstars</th>\n",
       "      <th>duration</th>\n",
       "      <th>views</th>\n",
       "      <th>likes</th>\n",
       "      <th>dislikes</th>\n",
       "      <th>thumbnail3</th>\n",
       "      <th>thumbnail4</th>\n",
       "    </tr>\n",
       "  </thead>\n",
       "  <tbody>\n",
       "    <tr>\n",
       "      <th>0</th>\n",
       "      <td>&lt;iframe src=\"https://www.pornhub.com/embed/110...</td>\n",
       "      <td>https://di.phncdn.com/videos/201312/29/2142343...</td>\n",
       "      <td>https://di.phncdn.com/videos/201312/29/2142343...</td>\n",
       "      <td>Sexy teen fucked by her masseur</td>\n",
       "      <td>teenmegaworld;teens;young;tricky-masseur;blond...</td>\n",
       "      <td>Pornstar;Teen (18+);Small Tits;Massage</td>\n",
       "      <td>Milana Fox</td>\n",
       "      <td>406</td>\n",
       "      <td>336754</td>\n",
       "      <td>526.0</td>\n",
       "      <td>211.0</td>\n",
       "      <td>https://di.phncdn.com/videos/201312/29/2142343...</td>\n",
       "      <td>https://di.phncdn.com/videos/201312/29/2142343...</td>\n",
       "    </tr>\n",
       "    <tr>\n",
       "      <th>1</th>\n",
       "      <td>&lt;iframe src=\"https://www.pornhub.com/embed/641...</td>\n",
       "      <td>https://di.phncdn.com/videos/201312/30/2142671...</td>\n",
       "      <td>https://di.phncdn.com/videos/201312/30/2142671...</td>\n",
       "      <td>Fisting in her pussy and ass</td>\n",
       "      <td>filthyandfisting;european;girl-on-girl;lesbian...</td>\n",
       "      <td>Fisting;Lesbian;Euro</td>\n",
       "      <td>Bonny Bon</td>\n",
       "      <td>886</td>\n",
       "      <td>17474</td>\n",
       "      <td>48.0</td>\n",
       "      <td>15.0</td>\n",
       "      <td>https://di.phncdn.com/videos/201312/30/2142671...</td>\n",
       "      <td>https://di.phncdn.com/videos/201312/30/2142671...</td>\n",
       "    </tr>\n",
       "    <tr>\n",
       "      <th>2</th>\n",
       "      <td>&lt;iframe src=\"https://www.pornhub.com/embed/639...</td>\n",
       "      <td>https://di.phncdn.com/videos/201312/30/2142698...</td>\n",
       "      <td>https://di.phncdn.com/videos/201312/30/2142698...</td>\n",
       "      <td>fuck blonde girl</td>\n",
       "      <td>theclassicporn;classic;retro;cum-shot;orgasm;v...</td>\n",
       "      <td>Big Tits;Blonde;Cumshot;Hardcore;MILF;Pornstar...</td>\n",
       "      <td>mike horner</td>\n",
       "      <td>654</td>\n",
       "      <td>28875</td>\n",
       "      <td>82.0</td>\n",
       "      <td>11.0</td>\n",
       "      <td>https://di.phncdn.com/videos/201312/30/2142698...</td>\n",
       "      <td>https://di.phncdn.com/videos/201312/30/2142698...</td>\n",
       "    </tr>\n",
       "    <tr>\n",
       "      <th>3</th>\n",
       "      <td>&lt;iframe src=\"https://www.pornhub.com/embed/465...</td>\n",
       "      <td>https://di.phncdn.com/videos/201312/30/2142729...</td>\n",
       "      <td>https://di.phncdn.com/videos/201312/30/2142729...</td>\n",
       "      <td>classic hairi fuck</td>\n",
       "      <td>theclassicporn;classic;retro;cumshot;big-nippl...</td>\n",
       "      <td>Big Dick;Big Tits;Cumshot;Pornstar;Vintage</td>\n",
       "      <td>Nikki Knight;nikki knights;Tom Byron</td>\n",
       "      <td>367</td>\n",
       "      <td>80005</td>\n",
       "      <td>208.0</td>\n",
       "      <td>41.0</td>\n",
       "      <td>https://di.phncdn.com/videos/201312/30/2142729...</td>\n",
       "      <td>https://di.phncdn.com/videos/201312/30/2142729...</td>\n",
       "    </tr>\n",
       "    <tr>\n",
       "      <th>4</th>\n",
       "      <td>&lt;iframe src=\"https://www.pornhub.com/embed/101...</td>\n",
       "      <td>https://di.phncdn.com/videos/201312/30/2142736...</td>\n",
       "      <td>https://di.phncdn.com/videos/201312/30/2142736...</td>\n",
       "      <td>Sexy teen Mai Marie goes to town on her pussy ...</td>\n",
       "      <td>vstroker.com;dildo;blonde;small-tits;natural-t...</td>\n",
       "      <td>Masturbation;Toys;Pornstar;Teen (18+)</td>\n",
       "      <td>Mai Marie</td>\n",
       "      <td>483</td>\n",
       "      <td>182507</td>\n",
       "      <td>829.0</td>\n",
       "      <td>79.0</td>\n",
       "      <td>https://di.phncdn.com/videos/201312/30/2142736...</td>\n",
       "      <td>https://di.phncdn.com/videos/201312/30/2142736...</td>\n",
       "    </tr>\n",
       "  </tbody>\n",
       "</table>\n",
       "</div>"
      ],
      "text/plain": [
       "                                               embed  \\\n",
       "0  <iframe src=\"https://www.pornhub.com/embed/110...   \n",
       "1  <iframe src=\"https://www.pornhub.com/embed/641...   \n",
       "2  <iframe src=\"https://www.pornhub.com/embed/639...   \n",
       "3  <iframe src=\"https://www.pornhub.com/embed/465...   \n",
       "4  <iframe src=\"https://www.pornhub.com/embed/101...   \n",
       "\n",
       "                                           thumbnail  \\\n",
       "0  https://di.phncdn.com/videos/201312/29/2142343...   \n",
       "1  https://di.phncdn.com/videos/201312/30/2142671...   \n",
       "2  https://di.phncdn.com/videos/201312/30/2142698...   \n",
       "3  https://di.phncdn.com/videos/201312/30/2142729...   \n",
       "4  https://di.phncdn.com/videos/201312/30/2142736...   \n",
       "\n",
       "                                          thumbnail2  \\\n",
       "0  https://di.phncdn.com/videos/201312/29/2142343...   \n",
       "1  https://di.phncdn.com/videos/201312/30/2142671...   \n",
       "2  https://di.phncdn.com/videos/201312/30/2142698...   \n",
       "3  https://di.phncdn.com/videos/201312/30/2142729...   \n",
       "4  https://di.phncdn.com/videos/201312/30/2142736...   \n",
       "\n",
       "                                               title  \\\n",
       "0                    Sexy teen fucked by her masseur   \n",
       "1                       Fisting in her pussy and ass   \n",
       "2                                   fuck blonde girl   \n",
       "3                                 classic hairi fuck   \n",
       "4  Sexy teen Mai Marie goes to town on her pussy ...   \n",
       "\n",
       "                                                tags  \\\n",
       "0  teenmegaworld;teens;young;tricky-masseur;blond...   \n",
       "1  filthyandfisting;european;girl-on-girl;lesbian...   \n",
       "2  theclassicporn;classic;retro;cum-shot;orgasm;v...   \n",
       "3  theclassicporn;classic;retro;cumshot;big-nippl...   \n",
       "4  vstroker.com;dildo;blonde;small-tits;natural-t...   \n",
       "\n",
       "                                          categories  \\\n",
       "0             Pornstar;Teen (18+);Small Tits;Massage   \n",
       "1                               Fisting;Lesbian;Euro   \n",
       "2  Big Tits;Blonde;Cumshot;Hardcore;MILF;Pornstar...   \n",
       "3         Big Dick;Big Tits;Cumshot;Pornstar;Vintage   \n",
       "4              Masturbation;Toys;Pornstar;Teen (18+)   \n",
       "\n",
       "                              pornstars  duration   views  likes  dislikes  \\\n",
       "0                            Milana Fox       406  336754  526.0     211.0   \n",
       "1                             Bonny Bon       886   17474   48.0      15.0   \n",
       "2                           mike horner       654   28875   82.0      11.0   \n",
       "3  Nikki Knight;nikki knights;Tom Byron       367   80005  208.0      41.0   \n",
       "4                             Mai Marie       483  182507  829.0      79.0   \n",
       "\n",
       "                                          thumbnail3  \\\n",
       "0  https://di.phncdn.com/videos/201312/29/2142343...   \n",
       "1  https://di.phncdn.com/videos/201312/30/2142671...   \n",
       "2  https://di.phncdn.com/videos/201312/30/2142698...   \n",
       "3  https://di.phncdn.com/videos/201312/30/2142729...   \n",
       "4  https://di.phncdn.com/videos/201312/30/2142736...   \n",
       "\n",
       "                                          thumbnail4  \n",
       "0  https://di.phncdn.com/videos/201312/29/2142343...  \n",
       "1  https://di.phncdn.com/videos/201312/30/2142671...  \n",
       "2  https://di.phncdn.com/videos/201312/30/2142698...  \n",
       "3  https://di.phncdn.com/videos/201312/30/2142729...  \n",
       "4  https://di.phncdn.com/videos/201312/30/2142736...  "
      ]
     },
     "execution_count": 93,
     "metadata": {},
     "output_type": "execute_result"
    }
   ],
   "source": [
    "dataset.head()"
   ]
  },
  {
   "cell_type": "code",
   "execution_count": 94,
   "metadata": {},
   "outputs": [
    {
     "data": {
      "text/plain": [
       "'size of tags are 42134'"
      ]
     },
     "execution_count": 94,
     "metadata": {},
     "output_type": "execute_result"
    }
   ],
   "source": [
    "tagsPopularity = Counter()\n",
    "dataset['tags'].map(lambda x: tagsPopularity.update(x.split(\";\")) if pd.notnull(x) else None)\n",
    "f\"size of tags are {len(tagsPopularity)}\"\n"
   ]
  },
  {
   "cell_type": "markdown",
   "metadata": {},
   "source": [
    "Top 10 Popular Video Uploads by Tags"
   ]
  },
  {
   "cell_type": "code",
   "execution_count": 95,
   "metadata": {},
   "outputs": [
    {
     "data": {
      "image/png": "[encoded data removed]",
      "text/plain": [
       "<Figure size 432x288 with 1 Axes>"
      ]
     },
     "metadata": {
      "needs_background": "light"
     },
     "output_type": "display_data"
    }
   ],
   "source": [
    "pd_tagsPopularity = pd.DataFrame(tagsPopularity.items(), columns=['tag', 'count'])\n",
    "top10_tags = pd_tagsPopularity.sort_values(by='count', ascending=False).head(10)\n",
    "sns.barplot(x=top10_tags['count'], y=top10_tags['tag']);"
   ]
  },
  {
   "cell_type": "markdown",
   "metadata": {},
   "source": [
    "Top 10 Least Popular Video Uploads by Tags"
   ]
  },
  {
   "cell_type": "code",
   "execution_count": 96,
   "metadata": {},
   "outputs": [
    {
     "data": {
      "image/png": "[encoded data removed]",
      "text/plain": [
       "<Figure size 432x288 with 1 Axes>"
      ]
     },
     "metadata": {
      "needs_background": "light"
     },
     "output_type": "display_data"
    }
   ],
   "source": [
    "least10_tags = pd_tagsPopularity.sort_values(by='count', ascending=False).tail(10)\n",
    "sns.barplot(x=least10_tags['count'], y=least10_tags['tag']);"
   ]
  },
  {
   "cell_type": "markdown",
   "metadata": {},
   "source": [
    "Linear Relationship between each variable"
   ]
  },
  {
   "cell_type": "code",
   "execution_count": 97,
   "metadata": {},
   "outputs": [
    {
     "data": {
      "image/png": "[encoded data removed]",
      "text/plain": [
       "<Figure size 432x288 with 2 Axes>"
      ]
     },
     "metadata": {
      "needs_background": "light"
     },
     "output_type": "display_data"
    }
   ],
   "source": [
    "sns.heatmap(dataset[['views', 'duration', 'likes', 'dislikes']].corr(), annot=True);"
   ]
  },
  {
   "cell_type": "markdown",
   "metadata": {},
   "source": [
    "Number of video taken by the pornstar"
   ]
  },
  {
   "cell_type": "code",
   "execution_count": 98,
   "metadata": {},
   "outputs": [
    {
     "data": {
      "text/plain": [
       "'number of pornstars are 6248'"
      ]
     },
     "execution_count": 98,
     "metadata": {},
     "output_type": "execute_result"
    }
   ],
   "source": [
    "modelPopularity = Counter()\n",
    "dataset['pornstars'].map(lambda x: modelPopularity.update(x.split(\";\")) if pd.notnull(x) else None)\n",
    "f\"number of pornstars are {len(modelPopularity)}\""
   ]
  },
  {
   "cell_type": "code",
   "execution_count": 99,
   "metadata": {},
   "outputs": [
    {
     "data": {
      "image/png": "[encoded data removed]",
      "text/plain": [
       "<Figure size 432x288 with 1 Axes>"
      ]
     },
     "metadata": {
      "needs_background": "light"
     },
     "output_type": "display_data"
    }
   ],
   "source": [
    "nVideoByPornstar = pd.DataFrame(modelPopularity.items(), columns=['pornstar', 'count']).sort_values(by='count', ascending=False).head(10)\n",
    "sns.barplot(x=nVideoByPornstar['count'], y=nVideoByPornstar['pornstar']);"
   ]
  },
  {
   "cell_type": "markdown",
   "metadata": {},
   "source": [
    "Video Views By Pornstar"
   ]
  },
  {
   "cell_type": "code",
   "execution_count": 100,
   "metadata": {},
   "outputs": [],
   "source": [
    "c = Counter()\n",
    "pornstarByVideoViews = dataset[dataset['pornstars'].notnull()]\n",
    "pornstarByVideoViews = pornstarByVideoViews[['pornstars', 'views']]\n",
    "for idx in range(len(pornstarByVideoViews)):\n",
    "    info = pornstarByVideoViews.iloc[idx][['pornstars', 'views']]\n",
    "    pornstars = info['pornstars'].split(';')\n",
    "    for pornstar in pornstars:\n",
    "        c[pornstar] += info['views']"
   ]
  },
  {
   "cell_type": "code",
   "execution_count": 101,
   "metadata": {},
   "outputs": [
    {
     "data": {
      "image/png": "[encoded data removed]",
      "text/plain": [
       "<Figure size 432x288 with 1 Axes>"
      ]
     },
     "metadata": {
      "needs_background": "light"
     },
     "output_type": "display_data"
    }
   ],
   "source": [
    "pornstarByVideoViews = pd.DataFrame(c.items(), columns=['pornstar', 'views'])\n",
    "top10VideoViewsByPornstar = pornstarByVideoViews.sort_values(by='views', ascending=False).head(10)\n",
    "sns.barplot(x=top10VideoViewsByPornstar['views'], y=top10VideoViewsByPornstar['pornstar']);"
   ]
  },
  {
   "cell_type": "markdown",
   "metadata": {},
   "source": [
    "Video Views By Tags"
   ]
  },
  {
   "cell_type": "code",
   "execution_count": 103,
   "metadata": {},
   "outputs": [],
   "source": [
    "c = Counter()\n",
    "tagsByVideoViews = dataset[dataset['tags'].notnull()]\n",
    "tagsByVideoViews = tagsByVideoViews[['tags', 'views']]\n",
    "for idx in range(len(tagsByVideoViews)):\n",
    "    info = tagsByVideoViews.iloc[idx][['tags', 'views']]\n",
    "    tags = info['tags'].split(';')\n",
    "    for tags in tags:\n",
    "        c[tags] += info['views']"
   ]
  },
  {
   "cell_type": "code",
   "execution_count": 104,
   "metadata": {},
   "outputs": [
    {
     "data": {
      "image/png": "[encoded data removed]",
      "text/plain": [
       "<Figure size 432x288 with 1 Axes>"
      ]
     },
     "metadata": {
      "needs_background": "light"
     },
     "output_type": "display_data"
    }
   ],
   "source": [
    "tagsByVideoViews = pd.DataFrame(c.items(), columns=['tags', 'views'])\n",
    "top10VideoViewsByTags = tagsByVideoViews.sort_values(by='views', ascending=False).head(10)\n",
    "sns.barplot(x=top10VideoViewsByTags['views'], y=top10VideoViewsByTags['tags']);"
   ]
  }
 ],
 "metadata": {
  "interpreter": {
   "hash": "cc9e58485c66127f781685c073442b08643c5b6822b9701b79a89409626f1f30"
  },
  "kernelspec": {
   "display_name": "Python 3.9.7 64-bit",
   "language": "python",
   "name": "python3"
  },
  "language_info": {
   "codemirror_mode": {
    "name": "ipython",
    "version": 3
   },
   "file_extension": ".py",
   "mimetype": "text/x-python",
   "name": "python",
   "nbconvert_exporter": "python",
   "pygments_lexer": "ipython3",
   "version": "3.9.7"
  },
  "orig_nbformat": 4
 },
 "nbformat": 4,
 "nbformat_minor": 2
}
