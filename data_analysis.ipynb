{
 "cells": [
  {
   "cell_type": "code",
   "execution_count": 1,
   "metadata": {},
   "outputs": [],
   "source": [
    "import pandas as pd"
   ]
  },
  {
   "cell_type": "code",
   "execution_count": 2,
   "metadata": {},
   "outputs": [],
   "source": [
    "originalFile = 'pornhub.com-db.csv'"
   ]
  },
  {
   "cell_type": "markdown",
   "metadata": {},
   "source": [
    "Shrink large dataset"
   ]
  },
  {
   "cell_type": "code",
   "execution_count": 3,
   "metadata": {},
   "outputs": [],
   "source": [
    "# originalDataset = pd.read_csv(originalFile, chunksize=100000, iterator=True, on_bad_lines='skip')\n",
    "# for idx, chunk in enumerate(originalDataset):\n",
    "    # chunk.to_csv(f'pornhub.com-db-shrinked{idx}-0.csv', mode='a', header=False, index=False) "
   ]
  },
  {
   "cell_type": "code",
   "execution_count": 4,
   "metadata": {},
   "outputs": [],
   "source": [
    "columns = ['embed','thumbnail','thumbnail2','title','tags','categories','pornstars','duration','views','likes','dislikes','thumbnail3','thumbnail4']"
   ]
  },
  {
   "cell_type": "code",
   "execution_count": 5,
   "metadata": {},
   "outputs": [],
   "source": [
    "# dataset = pd.read_csv('pornhub.com-db-shrinked1-0.csv', delimiter='|', on_bad_lines='skip', columns=columns)\n",
    "# dataset.to_csv('pornhub.com-db-shrinked1-0-fixed.csv', mode='a', header=False, index=False)"
   ]
  },
  {
   "cell_type": "markdown",
   "metadata": {},
   "source": [
    "Data cleaning & processing"
   ]
  },
  {
   "cell_type": "code",
   "execution_count": 6,
   "metadata": {},
   "outputs": [],
   "source": [
    "# from collections import Counter\n",
    "# count = Counter()\n",
    "# for i in range(len(dataset)):\n",
    "#     count[len(dataset.iloc[i].embed.split('|'))] += 1\n",
    "# count"
   ]
  },
  {
   "cell_type": "code",
   "execution_count": 7,
   "metadata": {},
   "outputs": [],
   "source": [
    "# datasetValidation = [len(dataset.iloc[i].embed.split('|')) == 13 for i in range(len(dataset))]\n",
    "# dataset = dataset[datasetValidation]"
   ]
  },
  {
   "cell_type": "code",
   "execution_count": 8,
   "metadata": {},
   "outputs": [],
   "source": [
    "# datasetFixed = pd.DataFrame([dataset.iloc[i].embed.split('|') for i in range(1, len(dataset))], columns=dataset.iloc[0].embed.split('|'))"
   ]
  },
  {
   "cell_type": "code",
   "execution_count": 9,
   "metadata": {},
   "outputs": [],
   "source": [
    "# datasetFixed.to_csv('pornhub.com-db-shrinked1-0-fixed.csv', index=False, header=True, sep='|')"
   ]
  },
  {
   "cell_type": "markdown",
   "metadata": {},
   "source": [
    "Data quality check"
   ]
  },
  {
   "cell_type": "code",
   "execution_count": 11,
   "metadata": {},
   "outputs": [
    {
     "data": {
      "text/plain": [
       "3435419"
      ]
     },
     "execution_count": 11,
     "metadata": {},
     "output_type": "execute_result"
    }
   ],
   "source": [
    "dataset = pd.read_csv('pornhub.com-db.csv', delimiter='|', on_bad_lines='skip', header=None)\n",
    "len(dataset)"
   ]
  },
  {
   "cell_type": "code",
   "execution_count": 12,
   "metadata": {},
   "outputs": [],
   "source": [
    "dataset.columns = columns"
   ]
  },
  {
   "cell_type": "code",
   "execution_count": 13,
   "metadata": {},
   "outputs": [],
   "source": [
    "import seaborn as sns\n",
    "from collections import Counter\n",
    "%matplotlib inline"
   ]
  },
  {
   "cell_type": "code",
   "execution_count": 14,
   "metadata": {},
   "outputs": [
    {
     "data": {
      "text/plain": [
       "(Index(['embed', 'thumbnail', 'thumbnail2', 'title', 'tags', 'categories',\n",
       "        'pornstars', 'duration', 'views', 'likes', 'dislikes', 'thumbnail3',\n",
       "        'thumbnail4'],\n",
       "       dtype='object'),\n",
       " 13)"
      ]
     },
     "execution_count": 14,
     "metadata": {},
     "output_type": "execute_result"
    }
   ],
   "source": [
    "dataset.columns, len(dataset.columns)"
   ]
  },
  {
   "cell_type": "code",
   "execution_count": 15,
   "metadata": {},
   "outputs": [
    {
     "data": {
      "text/html": [
       "<div>\n",
       "<style scoped>\n",
       "    .dataframe tbody tr th:only-of-type {\n",
       "        vertical-align: middle;\n",
       "    }\n",
       "\n",
       "    .dataframe tbody tr th {\n",
       "        vertical-align: top;\n",
       "    }\n",
       "\n",
       "    .dataframe thead th {\n",
       "        text-align: right;\n",
       "    }\n",
       "</style>\n",
       "<table border=\"1\" class=\"dataframe\">\n",
       "  <thead>\n",
       "    <tr style=\"text-align: right;\">\n",
       "      <th></th>\n",
       "      <th>embed</th>\n",
       "      <th>thumbnail</th>\n",
       "      <th>thumbnail2</th>\n",
       "      <th>title</th>\n",
       "      <th>tags</th>\n",
       "      <th>categories</th>\n",
       "      <th>pornstars</th>\n",
       "      <th>duration</th>\n",
       "      <th>views</th>\n",
       "      <th>likes</th>\n",
       "      <th>dislikes</th>\n",
       "      <th>thumbnail3</th>\n",
       "      <th>thumbnail4</th>\n",
       "    </tr>\n",
       "  </thead>\n",
       "  <tbody>\n",
       "    <tr>\n",
       "      <th>0</th>\n",
       "      <td>&lt;iframe src=\"https://www.pornhub.com/embed/f4c...</td>\n",
       "      <td>https://di.phncdn.com/videos/200708/12/347/ori...</td>\n",
       "      <td>https://di.phncdn.com/videos/200708/12/347/ori...</td>\n",
       "      <td>Heather brooke swallo from condom</td>\n",
       "      <td>ideepthroat.com;pornstar;swallow;blowjob;fetis...</td>\n",
       "      <td>Blowjob;Pornstar;Verified Models</td>\n",
       "      <td>Heather Harmon</td>\n",
       "      <td>99</td>\n",
       "      <td>2639944</td>\n",
       "      <td>3130.0</td>\n",
       "      <td>478.0</td>\n",
       "      <td>https://di.phncdn.com/videos/200708/12/347/ori...</td>\n",
       "      <td>https://di.phncdn.com/videos/200708/12/347/ori...</td>\n",
       "    </tr>\n",
       "    <tr>\n",
       "      <th>1</th>\n",
       "      <td>&lt;iframe src=\"https://www.pornhub.com/embed/3ee...</td>\n",
       "      <td>https://di.phncdn.com/videos/200705/06/417/ori...</td>\n",
       "      <td>https://di.phncdn.com/videos/200705/06/417/ori...</td>\n",
       "      <td>HEATHER IN CHRISTMAS</td>\n",
       "      <td>ideepthroat.com;fetish;blowjob;blonde;swallow;...</td>\n",
       "      <td>Blowjob;Fetish;Pornstar;Verified Models</td>\n",
       "      <td>Heather Harmon</td>\n",
       "      <td>126</td>\n",
       "      <td>992730</td>\n",
       "      <td>1782.0</td>\n",
       "      <td>276.0</td>\n",
       "      <td>https://di.phncdn.com/videos/200705/06/417/ori...</td>\n",
       "      <td>https://di.phncdn.com/videos/200705/06/417/ori...</td>\n",
       "    </tr>\n",
       "    <tr>\n",
       "      <th>2</th>\n",
       "      <td>&lt;iframe src=\"https://www.pornhub.com/embed/e5e...</td>\n",
       "      <td>https://di.phncdn.com/videos/200704/18/518/ori...</td>\n",
       "      <td>https://di.phncdn.com/videos/200704/18/518/ori...</td>\n",
       "      <td>Blowjob Instruction</td>\n",
       "      <td>ideepthroat.com;blowjob;pornstar;blonde;big-di...</td>\n",
       "      <td>Orgy;Blonde;Blowjob;Pornstar;Threesome;Verifie...</td>\n",
       "      <td>Heather Harmon</td>\n",
       "      <td>86</td>\n",
       "      <td>837969</td>\n",
       "      <td>720.0</td>\n",
       "      <td>128.0</td>\n",
       "      <td>https://di.phncdn.com/videos/200704/18/518/ori...</td>\n",
       "      <td>https://di.phncdn.com/videos/200704/18/518/ori...</td>\n",
       "    </tr>\n",
       "    <tr>\n",
       "      <th>3</th>\n",
       "      <td>&lt;iframe src=\"https://www.pornhub.com/embed/f8e...</td>\n",
       "      <td>https://di.phncdn.com/videos/200706/05/592/ori...</td>\n",
       "      <td>https://di.phncdn.com/videos/200706/05/592/ori...</td>\n",
       "      <td>heather brooke-talks dirty</td>\n",
       "      <td>ideepthroat.com;blowjob;blonde;big-dick;big-ti...</td>\n",
       "      <td>Blowjob;Pornstar;Verified Models</td>\n",
       "      <td>Heather Harmon</td>\n",
       "      <td>110</td>\n",
       "      <td>3422599</td>\n",
       "      <td>3512.0</td>\n",
       "      <td>457.0</td>\n",
       "      <td>https://di.phncdn.com/videos/200706/05/592/ori...</td>\n",
       "      <td>https://di.phncdn.com/videos/200706/05/592/ori...</td>\n",
       "    </tr>\n",
       "    <tr>\n",
       "      <th>4</th>\n",
       "      <td>&lt;iframe src=\"https://www.pornhub.com/embed/493...</td>\n",
       "      <td>https://di.phncdn.com/videos/201010/27/6401/or...</td>\n",
       "      <td>https://di.phncdn.com/videos/201010/27/6401/or...</td>\n",
       "      <td>Hot blonde doing the Laundry</td>\n",
       "      <td>hot;blonde;laundry;anal;fuck;blowjob;cumshot;i...</td>\n",
       "      <td>Blonde;Pornstar;Anal;Verified Models</td>\n",
       "      <td>Heather Harmon</td>\n",
       "      <td>153</td>\n",
       "      <td>157006</td>\n",
       "      <td>145.0</td>\n",
       "      <td>33.0</td>\n",
       "      <td>https://di.phncdn.com/videos/201010/27/6401/or...</td>\n",
       "      <td>https://di.phncdn.com/videos/201010/27/6401/or...</td>\n",
       "    </tr>\n",
       "  </tbody>\n",
       "</table>\n",
       "</div>"
      ],
      "text/plain": [
       "                                               embed  \\\n",
       "0  <iframe src=\"https://www.pornhub.com/embed/f4c...   \n",
       "1  <iframe src=\"https://www.pornhub.com/embed/3ee...   \n",
       "2  <iframe src=\"https://www.pornhub.com/embed/e5e...   \n",
       "3  <iframe src=\"https://www.pornhub.com/embed/f8e...   \n",
       "4  <iframe src=\"https://www.pornhub.com/embed/493...   \n",
       "\n",
       "                                           thumbnail  \\\n",
       "0  https://di.phncdn.com/videos/200708/12/347/ori...   \n",
       "1  https://di.phncdn.com/videos/200705/06/417/ori...   \n",
       "2  https://di.phncdn.com/videos/200704/18/518/ori...   \n",
       "3  https://di.phncdn.com/videos/200706/05/592/ori...   \n",
       "4  https://di.phncdn.com/videos/201010/27/6401/or...   \n",
       "\n",
       "                                          thumbnail2  \\\n",
       "0  https://di.phncdn.com/videos/200708/12/347/ori...   \n",
       "1  https://di.phncdn.com/videos/200705/06/417/ori...   \n",
       "2  https://di.phncdn.com/videos/200704/18/518/ori...   \n",
       "3  https://di.phncdn.com/videos/200706/05/592/ori...   \n",
       "4  https://di.phncdn.com/videos/201010/27/6401/or...   \n",
       "\n",
       "                               title  \\\n",
       "0  Heather brooke swallo from condom   \n",
       "1               HEATHER IN CHRISTMAS   \n",
       "2                Blowjob Instruction   \n",
       "3         heather brooke-talks dirty   \n",
       "4       Hot blonde doing the Laundry   \n",
       "\n",
       "                                                tags  \\\n",
       "0  ideepthroat.com;pornstar;swallow;blowjob;fetis...   \n",
       "1  ideepthroat.com;fetish;blowjob;blonde;swallow;...   \n",
       "2  ideepthroat.com;blowjob;pornstar;blonde;big-di...   \n",
       "3  ideepthroat.com;blowjob;blonde;big-dick;big-ti...   \n",
       "4  hot;blonde;laundry;anal;fuck;blowjob;cumshot;i...   \n",
       "\n",
       "                                          categories       pornstars  \\\n",
       "0                   Blowjob;Pornstar;Verified Models  Heather Harmon   \n",
       "1            Blowjob;Fetish;Pornstar;Verified Models  Heather Harmon   \n",
       "2  Orgy;Blonde;Blowjob;Pornstar;Threesome;Verifie...  Heather Harmon   \n",
       "3                   Blowjob;Pornstar;Verified Models  Heather Harmon   \n",
       "4               Blonde;Pornstar;Anal;Verified Models  Heather Harmon   \n",
       "\n",
       "   duration    views   likes  dislikes  \\\n",
       "0        99  2639944  3130.0     478.0   \n",
       "1       126   992730  1782.0     276.0   \n",
       "2        86   837969   720.0     128.0   \n",
       "3       110  3422599  3512.0     457.0   \n",
       "4       153   157006   145.0      33.0   \n",
       "\n",
       "                                          thumbnail3  \\\n",
       "0  https://di.phncdn.com/videos/200708/12/347/ori...   \n",
       "1  https://di.phncdn.com/videos/200705/06/417/ori...   \n",
       "2  https://di.phncdn.com/videos/200704/18/518/ori...   \n",
       "3  https://di.phncdn.com/videos/200706/05/592/ori...   \n",
       "4  https://di.phncdn.com/videos/201010/27/6401/or...   \n",
       "\n",
       "                                          thumbnail4  \n",
       "0  https://di.phncdn.com/videos/200708/12/347/ori...  \n",
       "1  https://di.phncdn.com/videos/200705/06/417/ori...  \n",
       "2  https://di.phncdn.com/videos/200704/18/518/ori...  \n",
       "3  https://di.phncdn.com/videos/200706/05/592/ori...  \n",
       "4  https://di.phncdn.com/videos/201010/27/6401/or...  "
      ]
     },
     "execution_count": 15,
     "metadata": {},
     "output_type": "execute_result"
    }
   ],
   "source": [
    "dataset.head()"
   ]
  },
  {
   "cell_type": "code",
   "execution_count": 16,
   "metadata": {},
   "outputs": [
    {
     "data": {
      "text/html": [
       "<div>\n",
       "<style scoped>\n",
       "    .dataframe tbody tr th:only-of-type {\n",
       "        vertical-align: middle;\n",
       "    }\n",
       "\n",
       "    .dataframe tbody tr th {\n",
       "        vertical-align: top;\n",
       "    }\n",
       "\n",
       "    .dataframe thead th {\n",
       "        text-align: right;\n",
       "    }\n",
       "</style>\n",
       "<table border=\"1\" class=\"dataframe\">\n",
       "  <thead>\n",
       "    <tr style=\"text-align: right;\">\n",
       "      <th></th>\n",
       "      <th>duration</th>\n",
       "      <th>views</th>\n",
       "      <th>likes</th>\n",
       "      <th>dislikes</th>\n",
       "    </tr>\n",
       "  </thead>\n",
       "  <tbody>\n",
       "    <tr>\n",
       "      <th>count</th>\n",
       "      <td>3.435419e+06</td>\n",
       "      <td>3.435419e+06</td>\n",
       "      <td>3.089183e+06</td>\n",
       "      <td>3.089183e+06</td>\n",
       "    </tr>\n",
       "    <tr>\n",
       "      <th>mean</th>\n",
       "      <td>5.224059e+02</td>\n",
       "      <td>7.533594e+04</td>\n",
       "      <td>2.683648e+02</td>\n",
       "      <td>6.256540e+01</td>\n",
       "    </tr>\n",
       "    <tr>\n",
       "      <th>std</th>\n",
       "      <td>6.946790e+02</td>\n",
       "      <td>6.633161e+05</td>\n",
       "      <td>2.120420e+03</td>\n",
       "      <td>7.338234e+02</td>\n",
       "    </tr>\n",
       "    <tr>\n",
       "      <th>min</th>\n",
       "      <td>1.000000e+00</td>\n",
       "      <td>0.000000e+00</td>\n",
       "      <td>0.000000e+00</td>\n",
       "      <td>0.000000e+00</td>\n",
       "    </tr>\n",
       "    <tr>\n",
       "      <th>25%</th>\n",
       "      <td>1.020000e+02</td>\n",
       "      <td>3.410000e+02</td>\n",
       "      <td>5.000000e+00</td>\n",
       "      <td>0.000000e+00</td>\n",
       "    </tr>\n",
       "    <tr>\n",
       "      <th>50%</th>\n",
       "      <td>3.310000e+02</td>\n",
       "      <td>2.235000e+03</td>\n",
       "      <td>2.100000e+01</td>\n",
       "      <td>3.000000e+00</td>\n",
       "    </tr>\n",
       "    <tr>\n",
       "      <th>75%</th>\n",
       "      <td>6.730000e+02</td>\n",
       "      <td>1.924350e+04</td>\n",
       "      <td>9.400000e+01</td>\n",
       "      <td>1.500000e+01</td>\n",
       "    </tr>\n",
       "    <tr>\n",
       "      <th>max</th>\n",
       "      <td>1.033800e+05</td>\n",
       "      <td>2.218054e+08</td>\n",
       "      <td>6.558010e+05</td>\n",
       "      <td>2.721170e+05</td>\n",
       "    </tr>\n",
       "  </tbody>\n",
       "</table>\n",
       "</div>"
      ],
      "text/plain": [
       "           duration         views         likes      dislikes\n",
       "count  3.435419e+06  3.435419e+06  3.089183e+06  3.089183e+06\n",
       "mean   5.224059e+02  7.533594e+04  2.683648e+02  6.256540e+01\n",
       "std    6.946790e+02  6.633161e+05  2.120420e+03  7.338234e+02\n",
       "min    1.000000e+00  0.000000e+00  0.000000e+00  0.000000e+00\n",
       "25%    1.020000e+02  3.410000e+02  5.000000e+00  0.000000e+00\n",
       "50%    3.310000e+02  2.235000e+03  2.100000e+01  3.000000e+00\n",
       "75%    6.730000e+02  1.924350e+04  9.400000e+01  1.500000e+01\n",
       "max    1.033800e+05  2.218054e+08  6.558010e+05  2.721170e+05"
      ]
     },
     "execution_count": 16,
     "metadata": {},
     "output_type": "execute_result"
    }
   ],
   "source": [
    "dataset.describe()"
   ]
  },
  {
   "cell_type": "code",
   "execution_count": 17,
   "metadata": {},
   "outputs": [
    {
     "data": {
      "text/plain": [
       "'size of tags are 882110'"
      ]
     },
     "execution_count": 17,
     "metadata": {},
     "output_type": "execute_result"
    }
   ],
   "source": [
    "tagsPopularity = Counter()\n",
    "dataset['tags'].map(lambda x: tagsPopularity.update(x.split(\";\")) if pd.notnull(x) else None)\n",
    "f\"size of tags are {len(tagsPopularity)}\"\n"
   ]
  },
  {
   "cell_type": "code",
   "execution_count": 18,
   "metadata": {},
   "outputs": [
    {
     "data": {
      "text/plain": [
       "'size of categories are 138'"
      ]
     },
     "execution_count": 18,
     "metadata": {},
     "output_type": "execute_result"
    }
   ],
   "source": [
    "categoriesPopularity = Counter()\n",
    "dataset['categories'].map(lambda x: categoriesPopularity.update(x.split(\";\")) if pd.notnull(x) else None)\n",
    "f\"size of categories are {len(categoriesPopularity)}\"\n"
   ]
  },
  {
   "cell_type": "markdown",
   "metadata": {},
   "source": [
    "Top 10 Popular Video Uploads by Tags"
   ]
  },
  {
   "cell_type": "code",
   "execution_count": 19,
   "metadata": {},
   "outputs": [
    {
     "data": {
      "image/png": "[encoded data removed]",
      "text/plain": [
       "<Figure size 432x288 with 1 Axes>"
      ]
     },
     "metadata": {
      "needs_background": "light"
     },
     "output_type": "display_data"
    }
   ],
   "source": [
    "pd_tagsPopularity = pd.DataFrame(tagsPopularity.items(), columns=['tag', 'count'])\n",
    "top10_tags = pd_tagsPopularity.sort_values(by='count', ascending=False).head(10)\n",
    "sns.barplot(x=top10_tags['count'], y=top10_tags['tag']);"
   ]
  },
  {
   "cell_type": "markdown",
   "metadata": {},
   "source": [
    "Least Popular Video Uploads by Tags"
   ]
  },
  {
   "cell_type": "code",
   "execution_count": 35,
   "metadata": {},
   "outputs": [
    {
     "name": "stderr",
     "output_type": "stream",
     "text": [
      "/home/bigmart0918/.local/lib/python3.8/site-packages/IPython/core/pylabtools.py:151: UserWarning: Glyph 21046 (\\N{CJK UNIFIED IDEOGRAPH-5236}) missing from current font.\n",
      "  fig.canvas.print_figure(bytes_io, **kw)\n",
      "/home/bigmart0918/.local/lib/python3.8/site-packages/IPython/core/pylabtools.py:151: UserWarning: Glyph 26381 (\\N{CJK UNIFIED IDEOGRAPH-670D}) missing from current font.\n",
      "  fig.canvas.print_figure(bytes_io, **kw)\n"
     ]
    },
    {
     "data": {
      "image/png": "[encoded data removed]",
      "text/plain": [
       "<Figure size 432x288 with 1 Axes>"
      ]
     },
     "metadata": {
      "needs_background": "light"
     },
     "output_type": "display_data"
    }
   ],
   "source": [
    "least10_tags = pd_tagsPopularity.sort_values(by='count', ascending=False).tail(10)\n",
    "sns.barplot(x=least10_tags['count'], y=least10_tags['tag']);"
   ]
  },
  {
   "cell_type": "markdown",
   "metadata": {},
   "source": [
    "Linear Relationship between each variable"
   ]
  },
  {
   "cell_type": "code",
   "execution_count": 21,
   "metadata": {},
   "outputs": [
    {
     "data": {
      "image/png": "[encoded data removed]",
      "text/plain": [
       "<Figure size 432x288 with 2 Axes>"
      ]
     },
     "metadata": {
      "needs_background": "light"
     },
     "output_type": "display_data"
    }
   ],
   "source": [
    "sns.heatmap(dataset[['views', 'duration', 'likes', 'dislikes']].corr(), annot=True);"
   ]
  },
  {
   "cell_type": "markdown",
   "metadata": {},
   "source": [
    "Number of video taken by the pornstar"
   ]
  },
  {
   "cell_type": "code",
   "execution_count": 22,
   "metadata": {},
   "outputs": [
    {
     "data": {
      "text/plain": [
       "'number of pornstars are 19534'"
      ]
     },
     "execution_count": 22,
     "metadata": {},
     "output_type": "execute_result"
    }
   ],
   "source": [
    "modelPopularity = Counter()\n",
    "dataset['pornstars'].map(lambda x: modelPopularity.update(x.split(\";\")) if pd.notnull(x) else None)\n",
    "f\"number of pornstars are {len(modelPopularity)}\""
   ]
  },
  {
   "cell_type": "code",
   "execution_count": 23,
   "metadata": {},
   "outputs": [
    {
     "data": {
      "image/png": "[encoded data removed]",
      "text/plain": [
       "<Figure size 432x288 with 1 Axes>"
      ]
     },
     "metadata": {
      "needs_background": "light"
     },
     "output_type": "display_data"
    }
   ],
   "source": [
    "nVideoByPornstar = pd.DataFrame(modelPopularity.items(), columns=['pornstar', 'count']).sort_values(by='count', ascending=False).head(10)\n",
    "sns.barplot(x=nVideoByPornstar['count'], y=nVideoByPornstar['pornstar']);"
   ]
  },
  {
   "cell_type": "markdown",
   "metadata": {},
   "source": [
    "Top 10 Popular Video Views By Pornstar"
   ]
  },
  {
   "cell_type": "code",
   "execution_count": 24,
   "metadata": {},
   "outputs": [],
   "source": [
    "c = Counter()\n",
    "pornstarByVideoViews = dataset[dataset['pornstars'].notnull()]\n",
    "pornstarByVideoViews = pornstarByVideoViews[['pornstars', 'views']]\n",
    "for idx in range(len(pornstarByVideoViews)):\n",
    "    info = pornstarByVideoViews.iloc[idx][['pornstars', 'views']]\n",
    "    pornstars = info['pornstars'].split(';')\n",
    "    for pornstar in pornstars:\n",
    "        c[pornstar] += info['views']"
   ]
  },
  {
   "cell_type": "code",
   "execution_count": 25,
   "metadata": {},
   "outputs": [
    {
     "data": {
      "image/png": "[encoded data removed]",
      "text/plain": [
       "<Figure size 432x288 with 1 Axes>"
      ]
     },
     "metadata": {
      "needs_background": "light"
     },
     "output_type": "display_data"
    }
   ],
   "source": [
    "pornstarByVideoViews = pd.DataFrame(c.items(), columns=['pornstar', 'views'])\n",
    "top10VideoViewsByPornstar = pornstarByVideoViews.sort_values(by='views', ascending=False).head(10)\n",
    "sns.barplot(x=top10VideoViewsByPornstar['views'], y=top10VideoViewsByPornstar['pornstar']);"
   ]
  },
  {
   "cell_type": "markdown",
   "metadata": {},
   "source": [
    "Store pornstar names in pornstars.txt"
   ]
  },
  {
   "cell_type": "code",
   "execution_count": 26,
   "metadata": {},
   "outputs": [],
   "source": [
    "pornstars = list(c.keys())\n",
    "pornstars.sort()\n",
    "with open('pornstars.txt', 'w') as f:\n",
    "    for pornstar in pornstars:\n",
    "        f.write(f\"{pornstar}\\n\")"
   ]
  },
  {
   "cell_type": "markdown",
   "metadata": {},
   "source": [
    "Top 10 Popular Video Views By Tags"
   ]
  },
  {
   "cell_type": "code",
   "execution_count": 36,
   "metadata": {},
   "outputs": [],
   "source": [
    "tagsCounter = Counter()\n",
    "tagsByVideoViews = dataset[dataset['tags'].notnull()]\n",
    "tagsByVideoViews = tagsByVideoViews[['tags', 'views']]\n",
    "for idx in range(len(tagsByVideoViews)):\n",
    "    info = tagsByVideoViews.iloc[idx][['tags', 'views']]\n",
    "    tags = info['tags'].split(';')\n",
    "    for tags in tags:\n",
    "        tagsCounter[tags] += info['views']"
   ]
  },
  {
   "cell_type": "code",
   "execution_count": 28,
   "metadata": {},
   "outputs": [
    {
     "data": {
      "image/png": "[encoded data removed]",
      "text/plain": [
       "<Figure size 432x288 with 1 Axes>"
      ]
     },
     "metadata": {
      "needs_background": "light"
     },
     "output_type": "display_data"
    }
   ],
   "source": [
    "tagsByVideoViews = pd.DataFrame(c.items(), columns=['tags', 'views'])\n",
    "top10VideoViewsByTags = tagsByVideoViews.sort_values(by='views', ascending=False).head(10)\n",
    "sns.barplot(x=top10VideoViewsByTags['views'], y=top10VideoViewsByTags['tags']);"
   ]
  },
  {
   "cell_type": "markdown",
   "metadata": {},
   "source": [
    "Least Popular Video Views By Tags"
   ]
  },
  {
   "cell_type": "code",
   "execution_count": 37,
   "metadata": {},
   "outputs": [
    {
     "data": {
      "image/png": "[encoded data removed]",
      "text/plain": [
       "<Figure size 432x288 with 1 Axes>"
      ]
     },
     "metadata": {
      "needs_background": "light"
     },
     "output_type": "display_data"
    }
   ],
   "source": [
    "tagsByVideoViews = pd.DataFrame(tagsCounter.items(), columns=['tags', 'views'])\n",
    "top10VideoViewsByTags = tagsByVideoViews.sort_values(by='views', ascending=False).tail(10)\n",
    "sns.barplot(x=top10VideoViewsByTags['views'], y=top10VideoViewsByTags['tags']);"
   ]
  },
  {
   "cell_type": "markdown",
   "metadata": {},
   "source": [
    "Store tags in pornTags.txt"
   ]
  },
  {
   "cell_type": "code",
   "execution_count": 30,
   "metadata": {},
   "outputs": [],
   "source": [
    "pornTags = list(c.keys())\n",
    "pornTags.sort()\n",
    "with open('pornTags.txt', 'w', encoding=\"UTF-8\") as f:\n",
    "    for tag in pornTags:\n",
    "        f.write(f\"{tag}\\n\")"
   ]
  },
  {
   "cell_type": "markdown",
   "metadata": {},
   "source": [
    "Top 10 Popular Video Views By Categories"
   ]
  },
  {
   "cell_type": "code",
   "execution_count": 31,
   "metadata": {},
   "outputs": [],
   "source": [
    "c = Counter()\n",
    "categoriesByVideoViews = dataset[dataset['categories'].notnull()]\n",
    "categoriesByVideoViews = categoriesByVideoViews[['categories', 'views']]\n",
    "for idx in range(len(categoriesByVideoViews)):\n",
    "    info = categoriesByVideoViews.iloc[idx][['categories', 'views']]\n",
    "    categories = info['categories'].split(';')\n",
    "    for categories in categories:\n",
    "        c[categories] += info['views']"
   ]
  },
  {
   "cell_type": "code",
   "execution_count": 32,
   "metadata": {},
   "outputs": [
    {
     "data": {
      "image/png": "[encoded data removed]",
      "text/plain": [
       "<Figure size 432x288 with 1 Axes>"
      ]
     },
     "metadata": {
      "needs_background": "light"
     },
     "output_type": "display_data"
    }
   ],
   "source": [
    "categoriesByVideoViews = pd.DataFrame(c.items(), columns=['categories', 'views'])\n",
    "top10VideoViewsBycategories = categoriesByVideoViews.sort_values(by='views', ascending=False).head(10)\n",
    "sns.barplot(x=top10VideoViewsBycategories['views'], y=top10VideoViewsBycategories['categories']);"
   ]
  },
  {
   "cell_type": "markdown",
   "metadata": {},
   "source": [
    "Store categories in pornCategories.txt"
   ]
  },
  {
   "cell_type": "code",
   "execution_count": 33,
   "metadata": {},
   "outputs": [],
   "source": [
    "pornCategories = list(c.keys())\n",
    "pornCategories.sort()\n",
    "with open('pornCategories.txt', 'w') as f:\n",
    "    for category in pornCategories:\n",
    "        f.write(f\"{category}\\n\")"
   ]
  }
 ],
 "metadata": {
  "interpreter": {
   "hash": "cc9e58485c66127f781685c073442b08643c5b6822b9701b79a89409626f1f30"
  },
  "kernelspec": {
   "display_name": "Python 3 (ipykernel)",
   "language": "python",
   "name": "python3"
  },
  "language_info": {
   "codemirror_mode": {
    "name": "ipython",
    "version": 3
   },
   "file_extension": ".py",
   "mimetype": "text/x-python",
   "name": "python",
   "nbconvert_exporter": "python",
   "pygments_lexer": "ipython3",
   "version": "3.8.10"
  }
 },
 "nbformat": 4,
 "nbformat_minor": 2
}
